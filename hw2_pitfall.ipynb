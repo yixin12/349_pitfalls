{
 "cells": [
  {
   "cell_type": "code",
   "execution_count": 5,
   "metadata": {},
   "outputs": [],
   "source": [
    "import numpy as np"
   ]
  },
  {
   "cell_type": "markdown",
   "metadata": {},
   "source": [
    "# Suggested order to complete this assignment:\n",
    "** Always make sure you watch the lecture videos and read carefully the instructions under every function! \n",
    "1. <code>distances.py</code>\n",
    "2. <code>k_nearest_neighbor.py</code>\n",
    "3. <code>collaborative_filtering.py</code>\n",
    "\n",
    "<code>load_movelens.py</code> is only needed for the free response questions, so the order does not really matter"
   ]
  },
  {
   "cell_type": "markdown",
   "metadata": {},
   "source": [
    "# distances.py\n",
    "1. Check lectures for the formulas\n",
    "2. For each distance function, the inputs are a M * K np array (<code>X</code>) and a N * K np array (<code>Y</code>). The output should be a M * N array, where entry <code>[i, j]</code> is the distance between ith row of <code>X</code> and jth row of <code>Y</code>\n",
    "\n",
    "Tip: there are many ways to implement these functions, but we strongly recommend you to use numpy methods (particularly aggregate functions) to speed up the run time. If these distance functions are not optimized, it may take a very long time to run the code needed for FR questions. \n",
    "\n",
    "So here are some useful functions:"
   ]
  },
  {
   "cell_type": "code",
   "execution_count": 2,
   "metadata": {},
   "outputs": [],
   "source": [
    "X = np.array([1,2,3])\n",
    "Y = np.array([1,4,9])"
   ]
  },
  {
   "cell_type": "code",
   "execution_count": 3,
   "metadata": {},
   "outputs": [
    {
     "data": {
      "text/plain": [
       "6.324555320336759"
      ]
     },
     "execution_count": 3,
     "metadata": {},
     "output_type": "execute_result"
    }
   ],
   "source": [
    "np.linalg.norm(X-Y, ord = None)\n",
    "#Note: ord = None gives Euclidean distance. "
   ]
  },
  {
   "cell_type": "code",
   "execution_count": 4,
   "metadata": {},
   "outputs": [
    {
     "data": {
      "text/plain": [
       "8.0"
      ]
     },
     "execution_count": 4,
     "metadata": {},
     "output_type": "execute_result"
    }
   ],
   "source": [
    "np.linalg.norm(X-Y, ord = 1)\n",
    "#Note: ord = 1 gives Manhattan distance. "
   ]
  },
  {
   "cell_type": "code",
   "execution_count": 7,
   "metadata": {},
   "outputs": [
    {
     "data": {
      "text/plain": [
       "array([1., 2., 3., 4.])"
      ]
     },
     "execution_count": 7,
     "metadata": {},
     "output_type": "execute_result"
    }
   ],
   "source": [
    "np.sqrt([1, 4, 9, 16])"
   ]
  },
  {
   "cell_type": "code",
   "execution_count": 6,
   "metadata": {},
   "outputs": [
    {
     "data": {
      "text/plain": [
       "24"
      ]
     },
     "execution_count": 6,
     "metadata": {},
     "output_type": "execute_result"
    }
   ],
   "source": [
    "np.dot([-1, 2, 3], [4, 5, 6])"
   ]
  },
  {
   "cell_type": "code",
   "execution_count": 5,
   "metadata": {},
   "outputs": [
    {
     "data": {
      "text/plain": [
       "array([1, 4, 9])"
      ]
     },
     "execution_count": 5,
     "metadata": {},
     "output_type": "execute_result"
    }
   ],
   "source": [
    "np.square([-1, 2, 3])"
   ]
  },
  {
   "cell_type": "markdown",
   "metadata": {},
   "source": [
    "# k_nearest_neighbors.py\n",
    "1. <code>fit</code> function: think about whether there is an actual training process for KNN models...\n",
    "2. <code>predict</code> function. For each row (i.e. each data point) in the input features matrix: \n",
    "<br>\n",
    "&emsp;a. find its K nearest neighbor from the training feature sets. You need use the functions implemented in distances.py: compute the distances --> sort the training data based on distances --> get the K nearest neighbors.\n",
    "<br>\n",
    "&emsp;b. if <code>ignore_first = True</code>, skip the closest neighbor (so you want to find K+1 nearest neighbors and get rid of the first one)\n",
    "<br>\n",
    "&emsp;c. use the specified aggregator to predict the class of that data point. For example, if <code>K</code> = 5 and <code>aggregator</code> = mode, the classes of 5 nearest neighbors are <code>[0,0,2,3,4]</code> --> the prediction for that data point will be 0. \n",
    "    <br>\n",
    "&emsp;&emsp; - The <code>aggregator</code> decides how we aggregate/\"summarize\" the results from nearest neighbors into one single prediction. We want to apply the aggregator along each column/feature. \n",
    "        <br>\n",
    "&emsp;&emsp; More concretely, consider 3 nearest neighbors' ratings for 4 movies: their ratings are\n",
    "    <code>[ \n",
    "        &emsp;[1, 4, 2, 3],\n",
    "        &emsp;[2, 4, 3, 2],\n",
    "        &emsp;[1, 5, 2, 3]\n",
    "    &emsp;]</code>\n",
    "    <br>\n",
    "    &emsp;If <code>aggregator</code> is <code>mode</code>, then we apply mode function along each column --> the result would be <code>[1, 4, 2, 3]</code>. \n",
    "    &emsp;If <code>aggregator</code> is <code>mean</code>, then we apply <code>np.mean</code> function along each column --> the result would be <code>[1.3, 4.3, 2.3, 2.7]</code>.\n",
    "    &emsp;If <code>aggregator</code> is <code>median</code>, then we apply <code>np.median</code> function along each column --> the result would be <code>[1, 4, 2, 3]</code>.\n",
    "&emsp;d. Do this for every row in the input <code>features</code> array\n",
    "<br>\n",
    "Some Tips: \n",
    "1. Note that the prediction results directly depends on the training data (meaning that we do not build a model in fit function and use that model for prediction). Therefore you need to access training data in the predict function - how do you do that? \n",
    "2. <code>mode</code> function from the statistics package may not be able to handle multiple modes in Python 3.7 (it will give you an error if the array is <code>[0,0,1,1]</code>). You could write a <code>mode</code> function yourself, using <code>np.unique</code> and <code>argmax</code> from numpy\n",
    "\n",
    "Here are some useful functions:"
   ]
  },
  {
   "cell_type": "code",
   "execution_count": 10,
   "metadata": {},
   "outputs": [
    {
     "name": "stdout",
     "output_type": "stream",
     "text": [
      "[ -2   1   3 100]\n",
      "[1 0 3 2]\n"
     ]
    }
   ],
   "source": [
    "arr = np.array([1,-2,100,3])\n",
    "print(np.sort(arr, axis=0))     # sorts array\n",
    "print(np.argsort(arr, axis=0))  # returns idices of sorted array"
   ]
  },
  {
   "cell_type": "code",
   "execution_count": 8,
   "metadata": {},
   "outputs": [
    {
     "data": {
      "text/plain": [
       "[1.0, 4.0, 2.0, 3.0]"
      ]
     },
     "execution_count": 8,
     "metadata": {},
     "output_type": "execute_result"
    }
   ],
   "source": [
    "#An example for vector comprehension\n",
    "nn_data = np.array([[1, 4, 2, 3],\n",
    "                    [2, 4, 3, 2],\n",
    "                    [1, 5, 2, 3]])\n",
    "aggregator = np.median\n",
    "prediction_result = [aggregator(nn_data[:, i]) for i in range(nn_data.shape[1])]\n",
    "prediction_result"
   ]
  },
  {
   "cell_type": "markdown",
   "metadata": {},
   "source": [
    "# collaborative_filtering.py\n",
    "Goal is to predict a person's rating by using the ratings of their K nearest neighbors\n",
    "<br>\n",
    "1. Essentially, we want to find K nearest neighbors for every user (i.e. every row) in the input features. Then we use the information from those K nearest neighbors to predict the ratings for a user. Note that we want to predict a user's ratings for all movies, and we only replace 0 ratings with the prediction results. \n",
    "<br>\n",
    "2. In this case, we do not have an explicit target array. You will be using the same data as training features and  training targets. \n",
    "<br>\n",
    "3. When you call <code>KNN.predict</code>, make sure you set <code>ignore_first</code> to be <code>True</code>. Otherwise, a data point's nearest neighbor will always be itself, which is not helpful for prediction. \n",
    "<br>\n",
    "\n",
    "p.s.: when you answer FR questions, it is possible that after imputation, there are still a few zeros in the data. This just means that a user's nearest neighbors do not rate that movie either... But as long as your collaborative_filtering model is working correctly, a few zeros will not affect the MSEs much. \n"
   ]
  },
  {
   "cell_type": "code",
   "execution_count": 9,
   "metadata": {},
   "outputs": [
    {
     "name": "stdout",
     "output_type": "stream",
     "text": [
      "[[ 0]\n",
      " [ 9]\n",
      " [10]\n",
      " [11]]\n"
     ]
    }
   ],
   "source": [
    "x = np.array([0, 2, 3, 4, 5, 5, 4, 3, 2, 0, 0, 0])\n",
    "print(np.argwhere(x == 0)) #helpful when you decide which entries you need to impute"
   ]
  },
  {
   "cell_type": "code",
   "execution_count": null,
   "metadata": {},
   "outputs": [],
   "source": []
  },
  {
   "cell_type": "code",
   "execution_count": null,
   "metadata": {},
   "outputs": [],
   "source": []
  }
 ],
 "metadata": {
  "kernelspec": {
   "display_name": "Python 3",
   "language": "python",
   "name": "python3"
  },
  "language_info": {
   "codemirror_mode": {
    "name": "ipython",
    "version": 3
   },
   "file_extension": ".py",
   "mimetype": "text/x-python",
   "name": "python",
   "nbconvert_exporter": "python",
   "pygments_lexer": "ipython3",
   "version": "3.7.6"
  }
 },
 "nbformat": 4,
 "nbformat_minor": 4
}
