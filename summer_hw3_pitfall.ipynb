{
 "cells": [
  {
   "cell_type": "markdown",
   "metadata": {},
   "source": [
    "# Suggested order to complete this assignment:\n",
    "1. **metrics.py**\n",
    "2. **generate_regression_data.py**\n",
    "3. **polynomial_regression.py**\n",
    "4. **perceptron.py**\n",
    "\n",
    "\n",
    "**suggested order for tests:**\n",
    "<br>\n",
    "test_mean_squared_error <br>\n",
    "test_generate_regression_data <br>\n",
    "test_polynomial_regression <br>\n",
    "test_perceptron <br>\n",
    "test_transform_data"
   ]
  },
  {
   "cell_type": "markdown",
   "metadata": {},
   "source": [
    "# generate_regression_data.py:\n",
    "We want to generate a **X** array and a **Y** array that roughly have polynomial relationship, i.e. <br>\n",
    "say degree = 4, then we want $y = a * x^4 + b * x^3 + c * x^2 + d * x + e$ for each of the N data points. We randonly select $x$ and the coefficients $a, b, c, d, e$, and then use them to generate (compute) $y$. \n",
    "\n",
    "Be careful that if degree is 4, we need 5 coefficients for the extra constant term. \n",
    "\n",
    "Here are some helpful functions:"
   ]
  },
  {
   "cell_type": "code",
   "execution_count": 1,
   "metadata": {},
   "outputs": [
    {
     "data": {
      "text/plain": [
       "array([-1.        , -0.89473684, -0.78947368, -0.68421053, -0.57894737,\n",
       "       -0.47368421, -0.36842105, -0.26315789, -0.15789474, -0.05263158,\n",
       "        0.05263158,  0.15789474,  0.26315789,  0.36842105,  0.47368421,\n",
       "        0.57894737,  0.68421053,  0.78947368,  0.89473684,  1.        ])"
      ]
     },
     "execution_count": 1,
     "metadata": {},
     "output_type": "execute_result"
    }
   ],
   "source": [
    "import numpy as np\n",
    "import matplotlib.pyplot as plt\n",
    "x = np.linspace(-1, 1, 20) #return 20 evenly spaced numbers from -1 to 1\n",
    "x"
   ]
  },
  {
   "cell_type": "code",
   "execution_count": 2,
   "metadata": {},
   "outputs": [
    {
     "data": {
      "text/plain": [
       "array([ 1.64892176,  4.27756164, -5.70538802,  5.44115285])"
      ]
     },
     "execution_count": 2,
     "metadata": {},
     "output_type": "execute_result"
    }
   ],
   "source": [
    "coef = np.random.uniform(-10, 10, 4) #generate random numbers from -10 to 10 based on uniform distribution\n",
    "coef"
   ]
  },
  {
   "cell_type": "code",
   "execution_count": 3,
   "metadata": {},
   "outputs": [
    {
     "name": "stdout",
     "output_type": "stream",
     "text": [
      "   4     3     2\n",
      "1 x + 2 x + 3 x + 4 x + 5\n",
      "[ 3.          3.03103107  3.11626676  3.24613071  3.41399314  3.61617084\n",
      "  3.85192716  4.12347204  4.43596197  4.79750002  5.21913583  5.7148656\n",
      "  6.30163212  6.99932474  7.83077938  8.82177853 10.00105125 11.40027317\n",
      " 13.0540665  15.        ]\n"
     ]
    },
    {
     "data": {
      "text/plain": [
       "<matplotlib.collections.PathCollection at 0x11fe7fe10>"
      ]
     },
     "execution_count": 3,
     "metadata": {},
     "output_type": "execute_result"
    },
    {
     "data": {
      "image/png": "[encoded data removed]",
      "text/plain": [
       "<Figure size 432x288 with 1 Axes>"
      ]
     },
     "metadata": {
      "needs_background": "light"
     },
     "output_type": "display_data"
    }
   ],
   "source": [
    "coefficients = [1, 2, 3, 4, 5]\n",
    "p = np.poly1d(coefficients) #note degree is 4 here\n",
    "\n",
    "# IMPORTANT: keep note of the order of the coefficients; the last element is the constant\n",
    "y_arr = p(x)\n",
    "print(p) \n",
    "print(y_arr)\n",
    "plt.scatter(x, y_arr)"
   ]
  },
  {
   "cell_type": "markdown",
   "metadata": {},
   "source": [
    "Note above, **<code>np.poly1d</code>** outputs a **function** $y = 1 * x^4 + 2 * x^3 + 3 * x^2 + 4 * x + 5$. <br>\n",
    "p can take an array of numbers as input and computes the $y$ value based on the given $x$."
   ]
  },
  {
   "cell_type": "markdown",
   "metadata": {},
   "source": [
    "To add some noise: \n",
    "1. computer std of the $y$ array using **```np.std(y)```**\n",
    "2. (from instruction) <code>y_noise = y + np.random.normal(loc=0.0, scale=1.5*2.0, size=y.shape)</code>"
   ]
  },
  {
   "cell_type": "markdown",
   "metadata": {},
   "source": [
    "# polynomial_regression.py:\n",
    "1. We assume that ```features``` and ```targets``` have a polynomial relationship with degree ```degree``` (specified in ```_init_```). Givern ```features```, ```targets```, and ```degree```, we want to find appropriate ```coefficients``` for the model to perform prediction. \n",
    "2. We want to access ```coefficients``` in the ```predict``` function, so what's the easist way to do it?\n",
    "3. In **```fit```**, \n",
    " * Turn ```features``` - a 1d array - into a 2d array **```X```** of shape (num_features, degree+1), so that the ```[i ,j] ``` entry of **```X```** is equal to **ith** elemnt in ```features``` to the **jth** power. **Make sure the first (0th) column of** **```X```** **is a column of 1s (for the constant term)**. \n",
    " * Since luckily we have a closed form formula for linear regression, we can simply use **```np.transpose```**, **```np.matmul```** and **```np.linalg.inv```** to compute the coefficients.  \n",
    " * Store the coefficients so that we can access them in the ```predict``` function\n",
    "4. In **```predict```**, \n",
    " * We already have the coefficients from ```fit```. To predict, we apply a polynomial function of degree ```degree``` and those coefficients to the input ```features```.  \n",
    " * Create a **```X```** array, just like you did for ```fit```\n",
    " * One option to get prediction: You could still use **```np.poly1d```**, but be careful that **```np.poly1d```** applies its input coefficient array in decreasing order (constant term is the last element), but the coefficients we get from ```fit``` are in increasing order (constant term is the first element). \n",
    " * Alternatively, you could use the dot product of the (reversed) coefficints array and each row of ```X```. \n",
    "\n",
    "\n",
    " Here are some useful functions:"
   ]
  },
  {
   "cell_type": "code",
   "execution_count": 4,
   "metadata": {},
   "outputs": [
    {
     "data": {
      "text/plain": [
       "array([1.    , 0.5   , 0.25  , 0.125 , 0.0625])"
      ]
     },
     "execution_count": 4,
     "metadata": {},
     "output_type": "execute_result"
    }
   ],
   "source": [
    "x = 0.5\n",
    "degree = 4\n",
    "powers = np.arange(0,degree+1) \n",
    "x_powers = np.power(np.full(degree+1, x), powers)\n",
    "x_powers #corresponds to [constant term, 0.5, 0.5^2, 0.5^3, 0.5^4]"
   ]
  },
  {
   "cell_type": "code",
   "execution_count": 5,
   "metadata": {},
   "outputs": [
    {
     "name": "stdout",
     "output_type": "stream",
     "text": [
      "[[ 3  4  5]\n",
      " [-1  2 -3]]\n",
      "[[ 3 -1]\n",
      " [ 4  2]\n",
      " [ 5 -3]]\n"
     ]
    }
   ],
   "source": [
    "arr1 = np.array([[3,4,5], [-1,2,-3]])\n",
    "print(arr1)\n",
    "arr1_transpose = np.transpose(arr1)\n",
    "print(arr1_transpose)"
   ]
  },
  {
   "cell_type": "code",
   "execution_count": 6,
   "metadata": {},
   "outputs": [
    {
     "data": {
      "text/plain": [
       "array([[ 2.50545083e+15, -4.55536514e+14, -1.13884129e+15],\n",
       "       [-4.55536514e+14,  8.28248207e+13,  2.07062052e+14],\n",
       "       [-1.13884129e+15,  2.07062052e+14,  5.17655130e+14]])"
      ]
     },
     "execution_count": 6,
     "metadata": {},
     "output_type": "execute_result"
    }
   ],
   "source": [
    "np.linalg.inv(np.matmul(arr1_transpose, arr1)) \n",
    "#first take the product of arr1_transpose and arr1, and then take the inverse of that product"
   ]
  },
  {
   "cell_type": "code",
   "execution_count": 7,
   "metadata": {},
   "outputs": [
    {
     "data": {
      "text/plain": [
       "array([0.4, 0.3, 0.2, 0.1])"
      ]
     },
     "execution_count": 7,
     "metadata": {},
     "output_type": "execute_result"
    }
   ],
   "source": [
    "coeffs = np.array([0.1,0.2,0.3,0.4])\n",
    "coeffs = coeffs[::-1]\n",
    "coeffs"
   ]
  },
  {
   "cell_type": "markdown",
   "metadata": {},
   "source": [
    "# perceptron.py\n",
    "In **fit**:\n",
    "1. Randomize initial weights vector (call it $w$). $w$ should have **```n_dim + 1```** elements, where **```n_dim```** is the number of dimensions (or columns) of **feature**\n",
    "2. Append a column of 1s to the ```features``` array to account for the constant term (similar to what you did for **polynomial_regression.py**) - call this new feature array **X**\n",
    "3. Iterate through each row $x$ of **X** (each example in features)\n",
    " * If the predicted label for this row $x$ is *not* the same as its true label $y$, then we adjust the weights vector using the formula $w = w + xy$.\n",
    "4. The iteration stops if all labels are correctly classified **or** the number of iterations has exceeded **```max_iterations```**"
   ]
  },
  {
   "cell_type": "markdown",
   "metadata": {},
   "source": [
    "Psuedocode looks like: <br>\n",
    "```while (not all correctly classified) and num_iterations < max_iterations``` <br>\n",
    "&emsp;&emsp;```for each_example in features:```<br>\n",
    "&emsp;&emsp;&emsp; ```my_prediction = each_example * weights``` #dot product here <br>\n",
    "&emsp;&emsp;&emsp; ```if my_prediction != true_label: ```<br>\n",
    "&emsp;&emsp;&emsp;&emsp; ``` weights = weights + each_example * true_label``` #note true_label is just a number<br> \n",
    "&emsp;&emsp;```num_iterations += 1 <\\code>```"
   ]
  },
  {
   "cell_type": "markdown",
   "metadata": {},
   "source": [
    "Some useful functions:"
   ]
  },
  {
   "cell_type": "code",
   "execution_count": 8,
   "metadata": {},
   "outputs": [
    {
     "name": "stdout",
     "output_type": "stream",
     "text": [
      "-1 1\n"
     ]
    }
   ],
   "source": [
    "print(np.sign(-3), np.sign(4))"
   ]
  },
  {
   "cell_type": "code",
   "execution_count": 9,
   "metadata": {},
   "outputs": [
    {
     "data": {
      "text/plain": [
       "array([[1., 2., 3.],\n",
       "       [1., 5., 7.],\n",
       "       [1., 2., 6.]])"
      ]
     },
     "execution_count": 9,
     "metadata": {},
     "output_type": "execute_result"
    }
   ],
   "source": [
    "arr_1 = np.ones((3,1))\n",
    "arr_2 = np.array([[2,3],[5,7],[2,6]])\n",
    "np.hstack((arr_1, arr_2))"
   ]
  },
  {
   "cell_type": "markdown",
   "metadata": {},
   "source": [
    "# Visualization\n",
    "\n",
    "Here are some helpful functions using matplotlib \n",
    "(credit to the person who created the pitfall in the spring quarter)"
   ]
  },
  {
   "cell_type": "code",
   "execution_count": 10,
   "metadata": {},
   "outputs": [
    {
     "data": {
      "image/png": "[encoded data removed]",
      "text/plain": [
       "<Figure size 432x288 with 1 Axes>"
      ]
     },
     "metadata": {
      "needs_background": "light"
     },
     "output_type": "display_data"
    }
   ],
   "source": [
    "import matplotlib.pyplot as plt\n",
    "import numpy as np\n",
    "\n",
    "# For this homework, you will need to get comfortable with matplotlib for specific functions, as well as answering\n",
    "# free response questions\n",
    "x = np.linspace(1, 5, 5)\n",
    "y = np.random.rand(5)\n",
    "\n",
    "# To create a figure:\n",
    "fig = plt.figure()\n",
    "\n",
    "# Title and axis\n",
    "plt.title('your title')\n",
    "plt.xlabel('x-label')\n",
    "plt.ylabel('y-label')\n",
    "\n",
    "# To plot you can use a variety of functions, such as .plot, .scatter, etc.\n",
    "plt.plot(x, y)\n",
    "plt.scatter(x, y)\n",
    "\n",
    "# You can also add a third argument to change the shape/symbol of the points such as\n",
    "plt.plot(x, y, 'kx') # this will plot 'x' marks instead of dots\n",
    "\n",
    "# To save a figure:\n",
    "fig.savefig('name-of-fig')"
   ]
  },
  {
   "cell_type": "code",
   "execution_count": null,
   "metadata": {},
   "outputs": [],
   "source": []
  }
 ],
 "metadata": {
  "kernelspec": {
   "display_name": "Python 3",
   "language": "python",
   "name": "python3"
  },
  "language_info": {
   "codemirror_mode": {
    "name": "ipython",
    "version": 3
   },
   "file_extension": ".py",
   "mimetype": "text/x-python",
   "name": "python",
   "nbconvert_exporter": "python",
   "pygments_lexer": "ipython3",
   "version": "3.7.6"
  }
 },
 "nbformat": 4,
 "nbformat_minor": 4
}
